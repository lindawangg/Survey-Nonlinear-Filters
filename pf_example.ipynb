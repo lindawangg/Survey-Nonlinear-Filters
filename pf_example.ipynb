{
 "cells": [
  {
   "cell_type": "code",
   "execution_count": 1,
   "metadata": {},
   "outputs": [
    {
     "name": "stdout",
     "output_type": "stream",
     "text": [
      "Falling back to pure python implementaton, expect horrible performance\n"
     ]
    }
   ],
   "source": [
    "# from https://pyparticleest.readthedocs.io/en/latest/example/StdNonLin.html\n",
    "%matplotlib inline\n",
    "import numpy as np\n",
    "import math\n",
    "import pyparticleest.models.nlg as nlg\n",
    "import pyparticleest.simulator as simulator\n",
    "import matplotlib.pyplot as plt"
   ]
  },
  {
   "cell_type": "code",
   "execution_count": 56,
   "metadata": {},
   "outputs": [],
   "source": [
    "def generate_dataset(steps, P0, Q, R):\n",
    "    x = np.zeros(steps + 1)\n",
    "    y = np.zeros(steps + 1)\n",
    "    x[0] = P0\n",
    "    #y[0] = 0.05*x[0]**2 + np.random.normal(0, np.sqrt(R))\n",
    "    #y[0] = x[0] + np.random.poisson(np.sqrt(R))\n",
    "    y[0] = x[0] + np.random.normal(0, np.sqrt(R))\n",
    "    for k in range(0, steps):\n",
    "        #x[k + 1] = 0.5*x[k] + 25*x[k]/(1+x[k]**2) + 8*math.cos(1.2*k) + np.random.normal(0, np.sqrt(Q))\n",
    "        #x[k + 1] = 0.5*x[k] + np.random.poisson(np.sqrt(Q))\n",
    "        x[k + 1] = 0.5*x[k] + np.random.normal(0, np.sqrt(Q))\n",
    "        #y[k + 1] = 0.05*x[k+1]**2 + np.random.normal(0, np.sqrt(R))\n",
    "        #y[k + 1] = x[k+1] + np.random.poisson(np.sqrt(R))\n",
    "        y[k + 1] = x[k+1] + np.random.normal(0, np.sqrt(R))\n",
    "\n",
    "    return (x, y)"
   ]
  },
  {
   "cell_type": "code",
   "execution_count": 57,
   "metadata": {},
   "outputs": [],
   "source": [
    "class StdNonLin(nlg.NonlinearGaussianInitialGaussian):\n",
    "    # x_{k+1} = 0.5*x_k + 25.0*x_k/(1+x_k**2) +\n",
    "    #           8*math.cos(1.2*k) + v_k = f(x_k) + v:\n",
    "    # y_k = 0.05*x_k**2 + e_k = g(x_k) + e_k,\n",
    "    # x(0) ~ N(0,P0), v_k ~ N(0,Q), e_k ~ N(0,R)\n",
    "\n",
    "    def __init__(self, P0, Q, R):\n",
    "    # Set covariances in the constructor since they\n",
    "    # are constant\n",
    "        super(StdNonLin, self).__init__(Px0=P0, Q=Q, R=R)\n",
    "\n",
    "    def calc_g(self, particles, t):\n",
    "    # Calculate value of g(\\xi_t,t)\n",
    "        #return 0.05 * particles ** 2\n",
    "        return particles\n",
    "\n",
    "    def calc_f(self, particles, u, t):\n",
    "    # Calculate value of f(xi_t,t)\n",
    "        #return (0.5 * particles + 25.0 * particles / (1 + particles ** 2) + 8 * math.cos(1.2 * t))\n",
    "        return 0.5 * particles"
   ]
  },
  {
   "cell_type": "code",
   "execution_count": 58,
   "metadata": {},
   "outputs": [],
   "source": [
    "T = 50 # number of iterations\n",
    "P0 = np.array([0.1]) # initial state\n",
    "Q = np.array([10]) # process noise\n",
    "R = np.array([1]) # measurement noise\n",
    "\n",
    "# Forward particles\n",
    "N = 100\n",
    "# Backward trajectories\n",
    "M = 10"
   ]
  },
  {
   "cell_type": "code",
   "execution_count": 50,
   "metadata": {},
   "outputs": [],
   "source": [
    "model = StdNonLin(P0, Q, R)"
   ]
  },
  {
   "cell_type": "code",
   "execution_count": 51,
   "metadata": {},
   "outputs": [],
   "source": [
    "np.random.seed(0)\n",
    "(x, y) = generate_dataset(T, P0, Q, R)"
   ]
  },
  {
   "cell_type": "code",
   "execution_count": 52,
   "metadata": {},
   "outputs": [
    {
     "data": {
      "text/plain": [
       "49"
      ]
     },
     "execution_count": 52,
     "metadata": {},
     "output_type": "execute_result"
    }
   ],
   "source": [
    "sim = simulator.Simulator(model, u=None, y=y)\n",
    "sim.simulate(N, M, filter='PF', meas_first=True)"
   ]
  },
  {
   "cell_type": "code",
   "execution_count": 53,
   "metadata": {},
   "outputs": [],
   "source": [
    "(est_filt, w_filt) = sim.get_filtered_estimates()\n",
    "mean_filt = sim.get_filtered_mean()"
   ]
  },
  {
   "cell_type": "code",
   "execution_count": 54,
   "metadata": {},
   "outputs": [],
   "source": [
    "est_smooth = sim.get_smoothed_estimates()\n",
    "\n",
    "mean_smooth = sim.get_smoothed_mean()"
   ]
  },
  {
   "cell_type": "code",
   "execution_count": 55,
   "metadata": {},
   "outputs": [
    {
     "data": {
      "text/plain": [
       "Text(0,0.5,'x')"
      ]
     },
     "execution_count": 55,
     "metadata": {},
     "output_type": "execute_result"
    },
    {
     "data": {
      "image/png": "[encoded data removed]",
      "text/plain": [
       "<Figure size 432x288 with 1 Axes>"
      ]
     },
     "metadata": {
      "needs_background": "light"
     },
     "output_type": "display_data"
    }
   ],
   "source": [
    "plt.plot(range(T + 1), x, 'r-', linewidth=2.0, label='True')\n",
    "plt.plot((0,) * N, est_filt[0, :, 0].ravel(), 'k.',\n",
    "        markersize=0.5, label='Particles')\n",
    "for t in range(1, T + 1):\n",
    "    plt.plot((t,) * N, est_filt[t, :, 0].ravel(),\n",
    "             'k.', markersize=0.5)\n",
    "plt.plot(range(T + 1), mean_filt[:, 0], 'g--',\n",
    "         linewidth=2.0, label='Filter mean')\n",
    "plt.xlabel('t')\n",
    "plt.ylabel('x')"
   ]
  },
  {
   "cell_type": "code",
   "execution_count": 21,
   "metadata": {},
   "outputs": [],
   "source": [
    "np.save('estimates/pf_x_g.npy', mean_filt[:, 0])"
   ]
  },
  {
   "cell_type": "code",
   "execution_count": null,
   "metadata": {},
   "outputs": [],
   "source": []
  }
 ],
 "metadata": {
  "kernelspec": {
   "display_name": "Python 3",
   "language": "python",
   "name": "python3"
  },
  "language_info": {
   "codemirror_mode": {
    "name": "ipython",
    "version": 3
   },
   "file_extension": ".py",
   "mimetype": "text/x-python",
   "name": "python",
   "nbconvert_exporter": "python",
   "pygments_lexer": "ipython3",
   "version": "3.7.0"
  }
 },
 "nbformat": 4,
 "nbformat_minor": 2
}

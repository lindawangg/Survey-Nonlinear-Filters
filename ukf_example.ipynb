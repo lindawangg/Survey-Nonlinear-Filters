{
 "cells": [
  {
   "cell_type": "code",
   "execution_count": 2,
   "metadata": {},
   "outputs": [],
   "source": [
    "import numpy as np\n",
    "import matplotlib.pyplot as plt \n",
    "np.random.seed(0)"
   ]
  },
  {
   "cell_type": "code",
   "execution_count": 3,
   "metadata": {},
   "outputs": [
    {
     "data": {
      "text/plain": [
       "[<matplotlib.lines.Line2D at 0x11b57ab38>]"
      ]
     },
     "execution_count": 3,
     "metadata": {},
     "output_type": "execute_result"
    },
    {
     "data": {
      "image/png": "[encoded data removed]",
      "text/plain": [
       "<Figure size 432x288 with 1 Axes>"
      ]
     },
     "metadata": {
      "needs_background": "light"
     },
     "output_type": "display_data"
    }
   ],
   "source": [
    "# initial conditions\n",
    "mu0 = 0\n",
    "P0 = 2\n",
    "\n",
    "T = 50 # number of steps\n",
    "Q = 10 # process noise\n",
    "R = 1 # measurement noise\n",
    "\n",
    "# ground truth and measurements\n",
    "x = np.zeros(T+1)\n",
    "y = np.zeros(T+1)\n",
    "x[0] = 0.1\n",
    "y[0] = 0.05*x[0]**2 + np.random.normal(0, np.sqrt(R))\n",
    "for k in range(0,T):\n",
    "    x[k + 1] = 0.5*x[k] + 25*x[k]/(1+x[k]**2) + 8*np.cos(1.2*k) + np.random.normal(0, np.sqrt(Q))\n",
    "    y[k + 1] = 0.05*x[k+1]**2 + np.random.normal(0, np.sqrt(R))\n",
    "\n",
    "plt.plot(range(T+1), x)"
   ]
  },
  {
   "cell_type": "code",
   "execution_count": 47,
   "metadata": {},
   "outputs": [
    {
     "name": "stdout",
     "output_type": "stream",
     "text": [
      "[[ 0.        ]\n",
      " [ 0.44497191]\n",
      " [-0.44497191]]\n"
     ]
    }
   ],
   "source": [
    "from filterpy.kalman import unscented_transform, MerweScaledSigmaPoints\n",
    "\n",
    "m0 = 0\n",
    "p0 = 2\n",
    "points = MerweScaledSigmaPoints(n=1, alpha=.3, beta=2., kappa=.1)\n",
    "sigmas = points.sigma_points(0, 2)\n",
    "print(sigmas)"
   ]
  },
  {
   "cell_type": "code",
   "execution_count": 49,
   "metadata": {},
   "outputs": [
    {
     "name": "stdout",
     "output_type": "stream",
     "text": [
      "[ 6.54034132 17.29241137  3.90985514]\n",
      "[-9.1010101   5.05050505  5.05050505]\n",
      "[-6.1910101   5.05050505  5.05050505]\n"
     ]
    }
   ],
   "source": [
    "# pass sigma points forward\n",
    "def fx(sigmas, step):\n",
    "    sigmas_f = np.zeros(len(sigmas))\n",
    "    for i,s in enumerate(sigmas):\n",
    "        sigmas_f[i] = 0.5*s + 25*s/(1+s**2) + 8*np.cos(1.2*step) + np.random.normal(0, np.sqrt(Q))\n",
    "    return sigmas_f\n",
    "\n",
    "sigmas_f = fx(sigmas, 0)\n",
    "print(sigmas_f)\n",
    "print(points.Wm)\n",
    "print(points.Wc)"
   ]
  },
  {
   "cell_type": "code",
   "execution_count": 50,
   "metadata": {},
   "outputs": [
    {
     "name": "stdout",
     "output_type": "stream",
     "text": [
      "15.852813901666176\n",
      "74.64808787541422\n"
     ]
    }
   ],
   "source": [
    "# predict step\n",
    "xs = []\n",
    "ps = []\n",
    "for s, wm in zip(sigmas_f, points.Wm):\n",
    "    xs.append(wm*s)\n",
    "ukf_mean = np.mean(xs)\n",
    "print(ukf_mean)\n",
    "\n",
    "for s, wc in zip(sigmas_f, points.Wc):\n",
    "    ps.append(wc*(s-ukf_mean)**2 + Q)\n",
    "ukf_P = np.mean(ps)\n",
    "print(ukf_P)"
   ]
  },
  {
   "cell_type": "code",
   "execution_count": 51,
   "metadata": {},
   "outputs": [
    {
     "name": "stdout",
     "output_type": "stream",
     "text": [
      "[ 1.3940484  14.12493601  0.66589584]\n"
     ]
    }
   ],
   "source": [
    "def hx(sigmas_f):\n",
    "    sigmas_m = np.zeros(len(sigmas))\n",
    "    for i,s in enumerate(sigmas_f):\n",
    "        sigmas_m[i] = 0.05*s**2 + np.random.normal(0, np.sqrt(R))\n",
    "    return sigmas_m\n",
    "\n",
    "sigmas_m = hx(sigmas_f)\n",
    "print(sigmas_m)"
   ]
  },
  {
   "cell_type": "code",
   "execution_count": 52,
   "metadata": {},
   "outputs": [
    {
     "name": "stdout",
     "output_type": "stream",
     "text": [
      "20.671307436970842\n",
      "-19.974456386275808\n"
     ]
    }
   ],
   "source": [
    "ms = []\n",
    "pms = []\n",
    "for s, wm in zip(sigmas_m, points.Wm):\n",
    "    ms.append(wm*s)\n",
    "mean_m = np.mean(ms)\n",
    "print(mean_m)\n",
    "\n",
    "for s, wc in zip(sigmas_m, points.Wc):\n",
    "    pms.append(wc*(s-mean_m)**2 + R)\n",
    "mean_pm = np.mean(pms)\n",
    "print(mean_pm)"
   ]
  },
  {
   "cell_type": "code",
   "execution_count": 54,
   "metadata": {},
   "outputs": [
    {
     "name": "stdout",
     "output_type": "stream",
     "text": [
      "1.764552345967664\n",
      "-18.906755091003177\n"
     ]
    }
   ],
   "source": [
    "residual = y[0] - mean_m\n",
    "print(y[0])\n",
    "print(residual)"
   ]
  },
  {
   "cell_type": "code",
   "execution_count": null,
   "metadata": {},
   "outputs": [],
   "source": []
  }
 ],
 "metadata": {
  "kernelspec": {
   "display_name": "Python 3",
   "language": "python",
   "name": "python3"
  },
  "language_info": {
   "codemirror_mode": {
    "name": "ipython",
    "version": 3
   },
   "file_extension": ".py",
   "mimetype": "text/x-python",
   "name": "python",
   "nbconvert_exporter": "python",
   "pygments_lexer": "ipython3",
   "version": "3.7.0"
  }
 },
 "nbformat": 4,
 "nbformat_minor": 2
}
